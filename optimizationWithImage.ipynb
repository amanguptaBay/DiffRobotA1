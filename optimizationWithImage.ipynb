{
 "cells": [
  {
   "cell_type": "code",
   "execution_count": 8,
   "metadata": {},
   "outputs": [
    {
     "data": {
      "text/plain": [
       "<torch._C.Generator at 0x7fc9304be950>"
      ]
     },
     "execution_count": 8,
     "metadata": {},
     "output_type": "execute_result"
    }
   ],
   "source": [
    "import numpy as np\n",
    "import os\n",
    "import pathlib\n",
    "import random\n",
    "import torch\n",
    "import torchgeometry\n",
    "import cv2\n",
    "from dlclive import DLCLive, Processor\n",
    "\n",
    "\n",
    "\n",
    "from torch.utils.data import DataLoader\n",
    "\n",
    "# potential mass parametrizations\n",
    "from differentiable_robot_model.rigid_body_params import (\n",
    "    UnconstrainedScalar,\n",
    "    PositiveScalar,\n",
    "    UnconstrainedTensor,\n",
    ")\n",
    "\n",
    "# potential inertia matrix parametrizations\n",
    "from differentiable_robot_model.rigid_body_params import (\n",
    "    CovParameterized3DInertiaMatrixNet,\n",
    "    Symm3DInertiaMatrixNet,\n",
    "    SymmPosDef3DInertiaMatrixNet,\n",
    "    TriangParam3DInertiaMatrixNet,\n",
    ")\n",
    "\n",
    "from differentiable_robot_model.robot_model import (\n",
    "    DifferentiableRobotModel,\n",
    "    DifferentiableKUKAiiwa,\n",
    ")\n",
    "from differentiable_robot_model.data_utils import (\n",
    "    generate_sine_motion_forward_dynamics_data,\n",
    ")\n",
    "import diff_robot_data\n",
    "\n",
    "torch.set_printoptions(precision=3, sci_mode=False)\n",
    "\n",
    "random.seed(0)\n",
    "np.random.seed(1)\n",
    "torch.manual_seed(0)\n"
   ]
  },
  {
   "cell_type": "code",
   "execution_count": 4,
   "metadata": {},
   "outputs": [
    {
     "name": "stdout",
     "output_type": "stream",
     "text": [
      "Warning: No dynamics information for link: base, setting all inertial properties to 1.\n",
      "Warning: No dynamics information for link: trunk, setting all inertial properties to 1.\n",
      "Warning: No dynamics information for link: imu_link, setting all inertial properties to 1.\n",
      "Warning: No dynamics information for link: FR_hip, setting all inertial properties to 1.\n",
      "Warning: No dynamics information for link: FR_thigh_shoulder, setting all inertial properties to 1.\n",
      "Warning: No dynamics information for link: FR_thigh, setting all inertial properties to 1.\n",
      "Warning: No dynamics information for link: FR_calf, setting all inertial properties to 1.\n",
      "Warning: No dynamics information for link: FR_foot, setting all inertial properties to 1.\n",
      "Warning: No dynamics information for link: FL_hip, setting all inertial properties to 1.\n",
      "Warning: No dynamics information for link: FL_thigh_shoulder, setting all inertial properties to 1.\n",
      "Warning: No dynamics information for link: FL_thigh, setting all inertial properties to 1.\n",
      "Warning: No dynamics information for link: FL_calf, setting all inertial properties to 1.\n",
      "Warning: No dynamics information for link: FL_foot, setting all inertial properties to 1.\n",
      "Warning: No dynamics information for link: RR_hip, setting all inertial properties to 1.\n",
      "Warning: No dynamics information for link: RR_thigh_shoulder, setting all inertial properties to 1.\n",
      "Warning: No dynamics information for link: RR_thigh, setting all inertial properties to 1.\n",
      "Warning: No dynamics information for link: RR_calf, setting all inertial properties to 1.\n",
      "Warning: No dynamics information for link: RR_foot, setting all inertial properties to 1.\n",
      "Warning: No dynamics information for link: RL_hip, setting all inertial properties to 1.\n",
      "Warning: No dynamics information for link: RL_thigh_shoulder, setting all inertial properties to 1.\n",
      "Warning: No dynamics information for link: RL_thigh, setting all inertial properties to 1.\n",
      "Warning: No dynamics information for link: RL_calf, setting all inertial properties to 1.\n",
      "Warning: No dynamics information for link: RL_foot, setting all inertial properties to 1.\n"
     ]
    },
    {
     "name": "stderr",
     "output_type": "stream",
     "text": [
      "Unknown tag \"hardwareInterface\" in /robot[@name='a1']/transmission[@name='FR_hip_tran']/actuator[@name='FR_hip_motor']\n",
      "Unknown tag \"hardwareInterface\" in /robot[@name='a1']/transmission[@name='FR_thigh_tran']/actuator[@name='FR_thigh_motor']\n",
      "Unknown tag \"hardwareInterface\" in /robot[@name='a1']/transmission[@name='FR_calf_tran']/actuator[@name='FR_calf_motor']\n",
      "Unknown tag \"hardwareInterface\" in /robot[@name='a1']/transmission[@name='FL_hip_tran']/actuator[@name='FL_hip_motor']\n",
      "Unknown tag \"hardwareInterface\" in /robot[@name='a1']/transmission[@name='FL_thigh_tran']/actuator[@name='FL_thigh_motor']\n",
      "Unknown tag \"hardwareInterface\" in /robot[@name='a1']/transmission[@name='FL_calf_tran']/actuator[@name='FL_calf_motor']\n",
      "Unknown tag \"hardwareInterface\" in /robot[@name='a1']/transmission[@name='RR_hip_tran']/actuator[@name='RR_hip_motor']\n",
      "Unknown tag \"hardwareInterface\" in /robot[@name='a1']/transmission[@name='RR_thigh_tran']/actuator[@name='RR_thigh_motor']\n",
      "Unknown tag \"hardwareInterface\" in /robot[@name='a1']/transmission[@name='RR_calf_tran']/actuator[@name='RR_calf_motor']\n",
      "Unknown tag \"hardwareInterface\" in /robot[@name='a1']/transmission[@name='RL_hip_tran']/actuator[@name='RL_hip_motor']\n",
      "Unknown tag \"hardwareInterface\" in /robot[@name='a1']/transmission[@name='RL_thigh_tran']/actuator[@name='RL_thigh_motor']\n",
      "Unknown tag \"hardwareInterface\" in /robot[@name='a1']/transmission[@name='RL_calf_tran']/actuator[@name='RL_calf_motor']\n"
     ]
    },
    {
     "data": {
      "text/plain": [
       "(tensor([[-0.431,  0.199,  0.189]], grad_fn=<AddBackward0>),\n",
       " tensor([[0.268, 0.539, 0.186, 0.776]], grad_fn=<CopySlices>))"
      ]
     },
     "execution_count": 4,
     "metadata": {},
     "output_type": "execute_result"
    }
   ],
   "source": [
    "class NMSELoss(torch.nn.Module):\n",
    "    def __init__(self, var):\n",
    "        super(NMSELoss, self).__init__()\n",
    "        self.var = var\n",
    "\n",
    "    def forward(self, yp, yt):\n",
    "        err = (yp - yt) ** 2\n",
    "        werr = err / self.var\n",
    "        return werr.mean()\n",
    "\n",
    "\n",
    "urdf_path = os.path.join(\"a1.urdf\")\n",
    "device = \"cpu\"\n",
    "learnable_robot_model = DifferentiableRobotModel(\n",
    "    urdf_path, \"A1\", device=device\n",
    ")\n",
    "\n",
    "learnable_robot_model.make_link_param_learnable(\n",
    "    \"FR_hip\", \"trans\", UnconstrainedTensor(dim1=1, dim2=3)\n",
    ")\n",
    "learnable_robot_model.make_link_param_learnable(\n",
    "        \"FR_thigh_shoulder\", \"trans\", UnconstrainedTensor(dim1=1, dim2=3)\n",
    "    )\n",
    "learnable_robot_model.make_link_param_learnable(\n",
    "        \"FR_thigh\", \"trans\", UnconstrainedTensor(dim1=1, dim2=3)\n",
    "    )\n",
    "learnable_robot_model.make_link_param_learnable(\n",
    "        \"FR_calf\", \"trans\", UnconstrainedTensor(dim1=1, dim2=3)\n",
    "    )\n",
    "learnable_robot_model.make_link_param_learnable(\n",
    "        \"FR_foot\", \"trans\", UnconstrainedTensor(dim1=1, dim2=3)\n",
    "    )\n",
    "learnable_robot_model.make_link_param_learnable(\n",
    "        \"FL_hip\", \"trans\", UnconstrainedTensor(dim1=1, dim2=3)\n",
    "    )\n",
    "learnable_robot_model.make_link_param_learnable(\n",
    "        \"FL_thigh_shoulder\", \"trans\", UnconstrainedTensor(dim1=1, dim2=3)\n",
    "    )\n",
    "learnable_robot_model.make_link_param_learnable(\n",
    "        \"FL_thigh\", \"trans\", UnconstrainedTensor(dim1=1, dim2=3)\n",
    "    )\n",
    "learnable_robot_model.make_link_param_learnable(\n",
    "        \"FL_calf\", \"trans\", UnconstrainedTensor(dim1=1, dim2=3)\n",
    "    )\n",
    "learnable_robot_model.make_link_param_learnable(\n",
    "        \"FL_foot\", \"trans\", UnconstrainedTensor(dim1=1, dim2=3)\n",
    "    )\n",
    "learnable_robot_model.make_link_param_learnable(\n",
    "        \"RR_hip\", \"trans\", UnconstrainedTensor(dim1=1, dim2=3)\n",
    "    )\n",
    "learnable_robot_model.make_link_param_learnable(\n",
    "        \"RR_thigh_shoulder\", \"trans\", UnconstrainedTensor(dim1=1, dim2=3)\n",
    "    )\n",
    "learnable_robot_model.make_link_param_learnable(\n",
    "        \"RR_thigh\", \"trans\", UnconstrainedTensor(dim1=1, dim2=3)\n",
    "    )\n",
    "learnable_robot_model.make_link_param_learnable(\n",
    "        \"RR_calf\", \"trans\", UnconstrainedTensor(dim1=1, dim2=3)\n",
    "    )\n",
    "learnable_robot_model.make_link_param_learnable(\n",
    "        \"RR_foot\", \"trans\", UnconstrainedTensor(dim1=1, dim2=3)\n",
    "    )\n",
    "learnable_robot_model.make_link_param_learnable(\n",
    "        \"RL_hip\", \"trans\", UnconstrainedTensor(dim1=1, dim2=3)\n",
    "    )\n",
    "learnable_robot_model.make_link_param_learnable(\n",
    "        \"RL_thigh_shoulder\", \"trans\", UnconstrainedTensor(dim1=1, dim2=3)\n",
    "    )\n",
    "learnable_robot_model.make_link_param_learnable(\n",
    "        \"RL_thigh\", \"trans\", UnconstrainedTensor(dim1=1, dim2=3)\n",
    "    )\n",
    "learnable_robot_model.make_link_param_learnable(\n",
    "        \"RL_calf\", \"trans\", UnconstrainedTensor(dim1=1, dim2=3)\n",
    "    )\n",
    "learnable_robot_model.make_link_param_learnable(\n",
    "        \"RL_foot\", \"trans\", UnconstrainedTensor(dim1=1, dim2=3)\n",
    "    )\n",
    "\n",
    "# learnable_robot_model.print_learnable_params()\n",
    "joint_angles = torch.rand((1, 12), requires_grad=True)\n",
    "learnable_robot_model.compute_forward_kinematics(joint_angles,\"FR_foot\")"
   ]
  },
  {
   "cell_type": "code",
   "execution_count": 5,
   "metadata": {},
   "outputs": [
    {
     "name": "stderr",
     "output_type": "stream",
     "text": [
      "2023-06-03 09:43:43.184513: I tensorflow/core/platform/cpu_feature_guard.cc:193] This TensorFlow binary is optimized with oneAPI Deep Neural Network Library (oneDNN) to use the following CPU instructions in performance-critical operations:  AVX2 FMA\n",
      "To enable them in other operations, rebuild TensorFlow with the appropriate compiler flags.\n",
      "2023-06-03 09:43:43.224776: I tensorflow/compiler/mlir/mlir_graph_optimization_pass.cc:354] MLIR V1 optimization pass is not enabled\n"
     ]
    },
    {
     "data": {
      "text/plain": [
       "array([[249.62645, 216.09793],\n",
       "       [275.79907, 244.88426],\n",
       "       [349.00183, 210.68068],\n",
       "       [340.4294 , 246.94559]], dtype=float32)"
      ]
     },
     "execution_count": 5,
     "metadata": {},
     "output_type": "execute_result"
    }
   ],
   "source": [
    "keypoints = \"\"\"End of Neck\n",
    "Shoulder\n",
    "FL_Knee\n",
    "FL_Ankle\n",
    "FL_White_TapeTop\n",
    "FL_White_TapeBot\n",
    "FR_Knee\n",
    "FR_Ankle\n",
    "FL_Red_TapeTop\n",
    "FL_Red_TapeBot\n",
    "End of Tail\n",
    "Hip\n",
    "BL_Knee\n",
    "BL_Ankle\n",
    "BL_Red_TapeTop\n",
    "BL_Red_TapeBot\n",
    "BR_Knee\n",
    "BR_Ankle\n",
    "BR_Red_TapeTop\n",
    "BR_Red_TapeBot\"\"\".split(\"\\n\")\n",
    "training_keypoints = ['FL_Ankle','FL_Knee','BL_Ankle','BL_Knee']\n",
    "indices_keypoints_training = [keypoints.index(val) for val in training_keypoints]\n",
    "\n",
    "base_dir = pathlib.Path.cwd()\n",
    "img_path = base_dir / \"HorseInferenceFiles/img0088.png\"\n",
    "dlc_model_path = base_dir/\"HorseInferenceFiles/DLC_HorseProject1_efficientnet-b0_iteration-0_shuffle-1\"\n",
    "image = cv2.imread(str(img_path))\n",
    "dlc_proc = Processor()\n",
    "dlc_live = DLCLive(model_path=str(dlc_model_path), processor=dlc_proc)\n",
    "dlc_live.init_inference(image)\n",
    "img_keypoints = dlc_live.get_pose(image)\n",
    "\n",
    "training_data = img_keypoints[indices_keypoints_training]\n",
    "training_data = training_data[:,0:2]\n",
    "training_data"
   ]
  },
  {
   "cell_type": "code",
   "execution_count": 14,
   "metadata": {},
   "outputs": [
    {
     "data": {
      "text/plain": [
       "(tensor([[-0.155,  0.087],\n",
       "         [-0.015,  0.018],\n",
       "         [-0.203, -0.239],\n",
       "         [-0.059, -0.295]], grad_fn=<SliceBackward0>),\n",
       " torch.Size([4, 2]))"
      ]
     },
     "execution_count": 14,
     "metadata": {},
     "output_type": "execute_result"
    }
   ],
   "source": [
    "intrinsic = torch.eye(4,requires_grad=True)\n",
    "extrinsic = torch.ones((4,4), requires_grad=True)\n",
    "intrinsic, extrinsic = intrinsic.unsqueeze(0), extrinsic.unsqueeze(0)\n",
    "\n",
    "imageHeight,imageWidth = torch.tensor(image.shape[0]),torch.tensor(image.shape[1])\n",
    "imageHeight = imageHeight.unsqueeze(0)\n",
    "imageWidth = imageWidth.unsqueeze(0)\n",
    "\n",
    "cameraModel = torchgeometry.PinholeCamera(intrinsic, extrinsic, imageHeight, torch.tensor([1,]))\n",
    "pixel_coords = torch.rand((1,training_data.shape[0], 1, 3), requires_grad=True)\n",
    "\n",
    "#Projection is in 3D space where the relevant points on the robot thinks it is\n",
    "projection = torch.cat((learnable_robot_model.compute_forward_kinematics(joint_angles, \"FL_foot\")[0],\\\n",
    "learnable_robot_model.compute_forward_kinematics(joint_angles, \"FL_calf\")[0],\\\n",
    "learnable_robot_model.compute_forward_kinematics(joint_angles, \"RL_foot\")[0],\\\n",
    "learnable_robot_model.compute_forward_kinematics(joint_angles, \"RL_calf\")[0]))\n",
    "projection = projection.unsqueeze(0).unsqueeze(0)\n",
    "\n",
    "depth = torch.ones((1,1,1,4))\n",
    "\n",
    "cameraEstimate = torchgeometry.pixel2cam(depth, cameraModel.intrinsics_inverse(), projection)\n",
    "cameraEstimate = cameraEstimate.squeeze(0).squeeze(0)[:,0:2]\n",
    "cameraEstimate, cameraEstimate.shape"
   ]
  },
  {
   "cell_type": "code",
   "execution_count": 15,
   "metadata": {},
   "outputs": [
    {
     "data": {
      "text/plain": [
       "tensor(1527.802, grad_fn=<SumBackward0>)"
      ]
     },
     "execution_count": 15,
     "metadata": {},
     "output_type": "execute_result"
    }
   ],
   "source": [
    "cameraLoss = torch.sum(torch.sqrt(torch.sum(torch.pow(torch.from_numpy(training_data)-cameraEstimate, 2), dim = 1)))\n",
    "cameraLoss"
   ]
  },
  {
   "cell_type": "code",
   "execution_count": 22,
   "metadata": {},
   "outputs": [
    {
     "ename": "ValueError",
     "evalue": "can't optimize a non-leaf Tensor",
     "output_type": "error",
     "traceback": [
      "\u001b[0;31m---------------------------------------------------------------------------\u001b[0m",
      "\u001b[0;31mValueError\u001b[0m                                Traceback (most recent call last)",
      "Cell \u001b[0;32mIn[22], line 1\u001b[0m\n\u001b[0;32m----> 1\u001b[0m optimizer \u001b[39m=\u001b[39m torch\u001b[39m.\u001b[39;49moptim\u001b[39m.\u001b[39;49mAdam([joint_angles]\u001b[39m+\u001b[39;49m \u001b[39mlist\u001b[39;49m(intrinsic) \u001b[39m+\u001b[39;49m \u001b[39mlist\u001b[39;49m(learnable_robot_model\u001b[39m.\u001b[39;49mparameters()), lr\u001b[39m=\u001b[39;49m\u001b[39m1e-2\u001b[39;49m)\n\u001b[1;32m      2\u001b[0m \u001b[39mfor\u001b[39;00m _ \u001b[39min\u001b[39;00m \u001b[39mrange\u001b[39m(\u001b[39m1000\u001b[39m):\n\u001b[1;32m      3\u001b[0m     optimizer\u001b[39m.\u001b[39mzero_grad()\n",
      "File \u001b[0;32m~/opt/anaconda3/envs/DEEPLABCUT/lib/python3.8/site-packages/torch/optim/adam.py:90\u001b[0m, in \u001b[0;36mAdam.__init__\u001b[0;34m(self, params, lr, betas, eps, weight_decay, amsgrad, foreach, maximize, capturable)\u001b[0m\n\u001b[1;32m     86\u001b[0m     \u001b[39mraise\u001b[39;00m \u001b[39mValueError\u001b[39;00m(\u001b[39m\"\u001b[39m\u001b[39mInvalid weight_decay value: \u001b[39m\u001b[39m{}\u001b[39;00m\u001b[39m\"\u001b[39m\u001b[39m.\u001b[39mformat(weight_decay))\n\u001b[1;32m     87\u001b[0m defaults \u001b[39m=\u001b[39m \u001b[39mdict\u001b[39m(lr\u001b[39m=\u001b[39mlr, betas\u001b[39m=\u001b[39mbetas, eps\u001b[39m=\u001b[39meps,\n\u001b[1;32m     88\u001b[0m                 weight_decay\u001b[39m=\u001b[39mweight_decay, amsgrad\u001b[39m=\u001b[39mamsgrad,\n\u001b[1;32m     89\u001b[0m                 maximize\u001b[39m=\u001b[39mmaximize, foreach\u001b[39m=\u001b[39mforeach, capturable\u001b[39m=\u001b[39mcapturable)\n\u001b[0;32m---> 90\u001b[0m \u001b[39msuper\u001b[39;49m(Adam, \u001b[39mself\u001b[39;49m)\u001b[39m.\u001b[39;49m\u001b[39m__init__\u001b[39;49m(params, defaults)\n",
      "File \u001b[0;32m~/opt/anaconda3/envs/DEEPLABCUT/lib/python3.8/site-packages/torch/optim/optimizer.py:54\u001b[0m, in \u001b[0;36mOptimizer.__init__\u001b[0;34m(self, params, defaults)\u001b[0m\n\u001b[1;32m     51\u001b[0m     param_groups \u001b[39m=\u001b[39m [{\u001b[39m'\u001b[39m\u001b[39mparams\u001b[39m\u001b[39m'\u001b[39m: param_groups}]\n\u001b[1;32m     53\u001b[0m \u001b[39mfor\u001b[39;00m param_group \u001b[39min\u001b[39;00m param_groups:\n\u001b[0;32m---> 54\u001b[0m     \u001b[39mself\u001b[39;49m\u001b[39m.\u001b[39;49madd_param_group(param_group)\n\u001b[1;32m     56\u001b[0m \u001b[39m# Allows _cuda_graph_capture_health_check to rig a poor man's TORCH_WARN_ONCE in python,\u001b[39;00m\n\u001b[1;32m     57\u001b[0m \u001b[39m# which I don't think exists\u001b[39;00m\n\u001b[1;32m     58\u001b[0m \u001b[39m# https://github.com/pytorch/pytorch/issues/72948\u001b[39;00m\n\u001b[1;32m     59\u001b[0m \u001b[39mself\u001b[39m\u001b[39m.\u001b[39m_warned_capturable_if_run_uncaptured \u001b[39m=\u001b[39m \u001b[39mTrue\u001b[39;00m\n",
      "File \u001b[0;32m~/opt/anaconda3/envs/DEEPLABCUT/lib/python3.8/site-packages/torch/optim/optimizer.py:292\u001b[0m, in \u001b[0;36mOptimizer.add_param_group\u001b[0;34m(self, param_group)\u001b[0m\n\u001b[1;32m    289\u001b[0m         \u001b[39mraise\u001b[39;00m \u001b[39mTypeError\u001b[39;00m(\u001b[39m\"\u001b[39m\u001b[39moptimizer can only optimize Tensors, \u001b[39m\u001b[39m\"\u001b[39m\n\u001b[1;32m    290\u001b[0m                         \u001b[39m\"\u001b[39m\u001b[39mbut one of the params is \u001b[39m\u001b[39m\"\u001b[39m \u001b[39m+\u001b[39m torch\u001b[39m.\u001b[39mtypename(param))\n\u001b[1;32m    291\u001b[0m     \u001b[39mif\u001b[39;00m \u001b[39mnot\u001b[39;00m param\u001b[39m.\u001b[39mis_leaf:\n\u001b[0;32m--> 292\u001b[0m         \u001b[39mraise\u001b[39;00m \u001b[39mValueError\u001b[39;00m(\u001b[39m\"\u001b[39m\u001b[39mcan\u001b[39m\u001b[39m'\u001b[39m\u001b[39mt optimize a non-leaf Tensor\u001b[39m\u001b[39m\"\u001b[39m)\n\u001b[1;32m    294\u001b[0m \u001b[39mfor\u001b[39;00m name, default \u001b[39min\u001b[39;00m \u001b[39mself\u001b[39m\u001b[39m.\u001b[39mdefaults\u001b[39m.\u001b[39mitems():\n\u001b[1;32m    295\u001b[0m     \u001b[39mif\u001b[39;00m default \u001b[39mis\u001b[39;00m required \u001b[39mand\u001b[39;00m name \u001b[39mnot\u001b[39;00m \u001b[39min\u001b[39;00m param_group:\n",
      "\u001b[0;31mValueError\u001b[0m: can't optimize a non-leaf Tensor"
     ]
    }
   ],
   "source": [
    "intrinsic.retain_grad()\n",
    "optimizer = torch.optim.Adam([joint_angles]+ list(intrinsic) + list(learnable_robot_model.parameters()), lr=1e-2)\n",
    "for _ in range(1000):\n",
    "    optimizer.zero_grad()\n",
    "    \n",
    "    #Where the Robot Thinks It Is\n",
    "    projection = torch.cat((learnable_robot_model.compute_forward_kinematics(joint_angles, \"FL_foot\")[0],\\\n",
    "    learnable_robot_model.compute_forward_kinematics(joint_angles, \"FL_calf\")[0],\\\n",
    "    learnable_robot_model.compute_forward_kinematics(joint_angles, \"RR_foot\")[0],\\\n",
    "    learnable_robot_model.compute_forward_kinematics(joint_angles, \"RR_calf\")[0]))\n",
    "    projection = projection.unsqueeze(0).unsqueeze(0)\n",
    "\n",
    "    #Where Robot Is In Pixel Space\n",
    "    cameraModel = torchgeometry.PinholeCamera(intrinsic, extrinsic, imageHeight, torch.tensor([1,]))\n",
    "    cameraEstimate = torchgeometry.pixel2cam(depth, cameraModel.intrinsics_inverse(), projection)\n",
    "    cameraEstimate = cameraEstimate.squeeze(0).squeeze(0)[:,0:2]\n",
    "\n",
    "    #Loss Between Where Robot/Horse Should Be and Where It Is\n",
    "\n",
    "    loss = torch.sum(torch.sqrt(torch.sum(torch.pow(torch.from_numpy(training_data)-cameraEstimate, 2))))\n",
    "    print(loss)\n",
    "    loss.backward()\n",
    "    optimizer.step()\n"
   ]
  },
  {
   "cell_type": "code",
   "execution_count": null,
   "metadata": {},
   "outputs": [],
   "source": []
  }
 ],
 "metadata": {
  "kernelspec": {
   "display_name": "DEEPLABCUT",
   "language": "python",
   "name": "python3"
  },
  "language_info": {
   "codemirror_mode": {
    "name": "ipython",
    "version": 3
   },
   "file_extension": ".py",
   "mimetype": "text/x-python",
   "name": "python",
   "nbconvert_exporter": "python",
   "pygments_lexer": "ipython3",
   "version": "3.8.16"
  },
  "orig_nbformat": 4
 },
 "nbformat": 4,
 "nbformat_minor": 2
}
