{
 "cells": [
  {
   "cell_type": "code",
   "execution_count": 4,
   "metadata": {},
   "outputs": [
    {
     "name": "stderr",
     "output_type": "stream",
     "text": [
      "2023-06-17 18:33:48.929168: I tensorflow/core/platform/cpu_feature_guard.cc:193] This TensorFlow binary is optimized with oneAPI Deep Neural Network Library (oneDNN) to use the following CPU instructions in performance-critical operations:  AVX2 FMA\n",
      "To enable them in other operations, rebuild TensorFlow with the appropriate compiler flags.\n",
      "/Users/aman/opt/anaconda3/envs/DEEPLABCUT/lib/python3.8/site-packages/_distutils_hack/__init__.py:33: UserWarning: Setuptools is replacing distutils.\n",
      "  warnings.warn(\"Setuptools is replacing distutils.\")\n"
     ]
    },
    {
     "data": {
      "text/plain": [
       "<torch._C.Generator at 0x7fb530590a10>"
      ]
     },
     "execution_count": 4,
     "metadata": {},
     "output_type": "execute_result"
    }
   ],
   "source": [
    "import numpy as np\n",
    "import os\n",
    "import pathlib\n",
    "import random\n",
    "import torch\n",
    "import torchgeometry\n",
    "import cv2\n",
    "from dlclive import DLCLive, Processor\n",
    "\n",
    "\n",
    "\n",
    "from torch.utils.data import DataLoader\n",
    "\n",
    "# potential mass parametrizations\n",
    "from differentiable_robot_model.rigid_body_params import (\n",
    "    UnconstrainedScalar,\n",
    "    PositiveScalar,\n",
    "    UnconstrainedTensor,\n",
    ")\n",
    "\n",
    "# potential inertia matrix parametrizations\n",
    "from differentiable_robot_model.rigid_body_params import (\n",
    "    CovParameterized3DInertiaMatrixNet,\n",
    "    Symm3DInertiaMatrixNet,\n",
    "    SymmPosDef3DInertiaMatrixNet,\n",
    "    TriangParam3DInertiaMatrixNet,\n",
    ")\n",
    "\n",
    "from differentiable_robot_model.robot_model import (\n",
    "    DifferentiableRobotModel,\n",
    "    DifferentiableKUKAiiwa,\n",
    ")\n",
    "from differentiable_robot_model.data_utils import (\n",
    "    generate_sine_motion_forward_dynamics_data,\n",
    ")\n",
    "import diff_robot_data\n",
    "\n",
    "torch.set_printoptions(precision=3, sci_mode=False)\n",
    "\n",
    "random.seed(0)\n",
    "np.random.seed(1)\n",
    "torch.manual_seed(0)\n"
   ]
  },
  {
   "cell_type": "code",
   "execution_count": 5,
   "metadata": {},
   "outputs": [
    {
     "name": "stdout",
     "output_type": "stream",
     "text": [
      "Warning: No dynamics information for link: base, setting all inertial properties to 1.\n",
      "Warning: No dynamics information for link: trunk, setting all inertial properties to 1.\n",
      "Warning: No dynamics information for link: imu_link, setting all inertial properties to 1.\n",
      "Warning: No dynamics information for link: FR_hip, setting all inertial properties to 1.\n",
      "Warning: No dynamics information for link: FR_thigh_shoulder, setting all inertial properties to 1.\n",
      "Warning: No dynamics information for link: FR_thigh, setting all inertial properties to 1.\n",
      "Warning: No dynamics information for link: FR_calf, setting all inertial properties to 1.\n",
      "Warning: No dynamics information for link: FR_foot, setting all inertial properties to 1.\n",
      "Warning: No dynamics information for link: FL_hip, setting all inertial properties to 1.\n",
      "Warning: No dynamics information for link: FL_thigh_shoulder, setting all inertial properties to 1.\n",
      "Warning: No dynamics information for link: FL_thigh, setting all inertial properties to 1.\n",
      "Warning: No dynamics information for link: FL_calf, setting all inertial properties to 1.\n",
      "Warning: No dynamics information for link: FL_foot, setting all inertial properties to 1.\n",
      "Warning: No dynamics information for link: RR_hip, setting all inertial properties to 1.\n",
      "Warning: No dynamics information for link: RR_thigh_shoulder, setting all inertial properties to 1.\n",
      "Warning: No dynamics information for link: RR_thigh, setting all inertial properties to 1.\n",
      "Warning: No dynamics information for link: RR_calf, setting all inertial properties to 1.\n",
      "Warning: No dynamics information for link: RR_foot, setting all inertial properties to 1.\n",
      "Warning: No dynamics information for link: RL_hip, setting all inertial properties to 1.\n",
      "Warning: No dynamics information for link: RL_thigh_shoulder, setting all inertial properties to 1.\n",
      "Warning: No dynamics information for link: RL_thigh, setting all inertial properties to 1.\n",
      "Warning: No dynamics information for link: RL_calf, setting all inertial properties to 1.\n",
      "Warning: No dynamics information for link: RL_foot, setting all inertial properties to 1.\n"
     ]
    },
    {
     "name": "stderr",
     "output_type": "stream",
     "text": [
      "Unknown tag \"hardwareInterface\" in /robot[@name='a1']/transmission[@name='FR_hip_tran']/actuator[@name='FR_hip_motor']\n",
      "Unknown tag \"hardwareInterface\" in /robot[@name='a1']/transmission[@name='FR_thigh_tran']/actuator[@name='FR_thigh_motor']\n",
      "Unknown tag \"hardwareInterface\" in /robot[@name='a1']/transmission[@name='FR_calf_tran']/actuator[@name='FR_calf_motor']\n",
      "Unknown tag \"hardwareInterface\" in /robot[@name='a1']/transmission[@name='FL_hip_tran']/actuator[@name='FL_hip_motor']\n",
      "Unknown tag \"hardwareInterface\" in /robot[@name='a1']/transmission[@name='FL_thigh_tran']/actuator[@name='FL_thigh_motor']\n",
      "Unknown tag \"hardwareInterface\" in /robot[@name='a1']/transmission[@name='FL_calf_tran']/actuator[@name='FL_calf_motor']\n",
      "Unknown tag \"hardwareInterface\" in /robot[@name='a1']/transmission[@name='RR_hip_tran']/actuator[@name='RR_hip_motor']\n",
      "Unknown tag \"hardwareInterface\" in /robot[@name='a1']/transmission[@name='RR_thigh_tran']/actuator[@name='RR_thigh_motor']\n",
      "Unknown tag \"hardwareInterface\" in /robot[@name='a1']/transmission[@name='RR_calf_tran']/actuator[@name='RR_calf_motor']\n",
      "Unknown tag \"hardwareInterface\" in /robot[@name='a1']/transmission[@name='RL_hip_tran']/actuator[@name='RL_hip_motor']\n",
      "Unknown tag \"hardwareInterface\" in /robot[@name='a1']/transmission[@name='RL_thigh_tran']/actuator[@name='RL_thigh_motor']\n",
      "Unknown tag \"hardwareInterface\" in /robot[@name='a1']/transmission[@name='RL_calf_tran']/actuator[@name='RL_calf_motor']\n"
     ]
    },
    {
     "data": {
      "text/plain": [
       "(tensor([[ 0.027,  0.103, -0.338]], grad_fn=<AddBackward0>),\n",
       " tensor([[0.315, 0.360, 0.131, 0.868]], grad_fn=<CopySlices>))"
      ]
     },
     "execution_count": 5,
     "metadata": {},
     "output_type": "execute_result"
    }
   ],
   "source": [
    "class NMSELoss(torch.nn.Module):\n",
    "    def __init__(self, var):\n",
    "        super(NMSELoss, self).__init__()\n",
    "        self.var = var\n",
    "\n",
    "    def forward(self, yp, yt):\n",
    "        err = (yp - yt) ** 2\n",
    "        werr = err / self.var\n",
    "        return werr.mean()\n",
    "\n",
    "\n",
    "urdf_path = os.path.join(\"a1.urdf\")\n",
    "device = \"cpu\"\n",
    "learnable_robot_model = DifferentiableRobotModel(\n",
    "    urdf_path, \"A1\", device=device\n",
    ")\n",
    "\n",
    "learnable_robot_model.make_link_param_learnable(\n",
    "    \"FR_hip\", \"trans\", UnconstrainedTensor(dim1=1, dim2=3)\n",
    ")\n",
    "learnable_robot_model.make_link_param_learnable(\n",
    "        \"FR_thigh_shoulder\", \"trans\", UnconstrainedTensor(dim1=1, dim2=3)\n",
    "    )\n",
    "learnable_robot_model.make_link_param_learnable(\n",
    "        \"FR_thigh\", \"trans\", UnconstrainedTensor(dim1=1, dim2=3)\n",
    "    )\n",
    "learnable_robot_model.make_link_param_learnable(\n",
    "        \"FR_calf\", \"trans\", UnconstrainedTensor(dim1=1, dim2=3)\n",
    "    )\n",
    "learnable_robot_model.make_link_param_learnable(\n",
    "        \"FR_foot\", \"trans\", UnconstrainedTensor(dim1=1, dim2=3)\n",
    "    )\n",
    "learnable_robot_model.make_link_param_learnable(\n",
    "        \"FL_hip\", \"trans\", UnconstrainedTensor(dim1=1, dim2=3)\n",
    "    )\n",
    "learnable_robot_model.make_link_param_learnable(\n",
    "        \"FL_thigh_shoulder\", \"trans\", UnconstrainedTensor(dim1=1, dim2=3)\n",
    "    )\n",
    "learnable_robot_model.make_link_param_learnable(\n",
    "        \"FL_thigh\", \"trans\", UnconstrainedTensor(dim1=1, dim2=3)\n",
    "    )\n",
    "learnable_robot_model.make_link_param_learnable(\n",
    "        \"FL_calf\", \"trans\", UnconstrainedTensor(dim1=1, dim2=3)\n",
    "    )\n",
    "learnable_robot_model.make_link_param_learnable(\n",
    "        \"FL_foot\", \"trans\", UnconstrainedTensor(dim1=1, dim2=3)\n",
    "    )\n",
    "learnable_robot_model.make_link_param_learnable(\n",
    "        \"RR_hip\", \"trans\", UnconstrainedTensor(dim1=1, dim2=3)\n",
    "    )\n",
    "learnable_robot_model.make_link_param_learnable(\n",
    "        \"RR_thigh_shoulder\", \"trans\", UnconstrainedTensor(dim1=1, dim2=3)\n",
    "    )\n",
    "learnable_robot_model.make_link_param_learnable(\n",
    "        \"RR_thigh\", \"trans\", UnconstrainedTensor(dim1=1, dim2=3)\n",
    "    )\n",
    "learnable_robot_model.make_link_param_learnable(\n",
    "        \"RR_calf\", \"trans\", UnconstrainedTensor(dim1=1, dim2=3)\n",
    "    )\n",
    "learnable_robot_model.make_link_param_learnable(\n",
    "        \"RR_foot\", \"trans\", UnconstrainedTensor(dim1=1, dim2=3)\n",
    "    )\n",
    "learnable_robot_model.make_link_param_learnable(\n",
    "        \"RL_hip\", \"trans\", UnconstrainedTensor(dim1=1, dim2=3)\n",
    "    )\n",
    "learnable_robot_model.make_link_param_learnable(\n",
    "        \"RL_thigh_shoulder\", \"trans\", UnconstrainedTensor(dim1=1, dim2=3)\n",
    "    )\n",
    "learnable_robot_model.make_link_param_learnable(\n",
    "        \"RL_thigh\", \"trans\", UnconstrainedTensor(dim1=1, dim2=3)\n",
    "    )\n",
    "learnable_robot_model.make_link_param_learnable(\n",
    "        \"RL_calf\", \"trans\", UnconstrainedTensor(dim1=1, dim2=3)\n",
    "    )\n",
    "learnable_robot_model.make_link_param_learnable(\n",
    "        \"RL_foot\", \"trans\", UnconstrainedTensor(dim1=1, dim2=3)\n",
    "    )\n",
    "\n",
    "# learnable_robot_model.print_learnable_params()\n",
    "joint_angles = torch.rand((1, 12), requires_grad=True)\n",
    "learnable_robot_model.compute_forward_kinematics(joint_angles,\"FR_foot\")"
   ]
  },
  {
   "cell_type": "code",
   "execution_count": 23,
   "metadata": {},
   "outputs": [
    {
     "data": {
      "text/plain": [
       "tensor([[[275.799, 244.884],\n",
       "         [249.626, 216.098],\n",
       "         [340.429, 246.946],\n",
       "         [349.002, 210.681]],\n",
       "\n",
       "        [[206.467, 256.802],\n",
       "         [215.914, 218.328],\n",
       "         [366.530, 252.797],\n",
       "         [373.324, 215.444]],\n",
       "\n",
       "        [[249.048, 258.187],\n",
       "         [243.911, 220.433],\n",
       "         [410.155, 250.348],\n",
       "         [389.190, 213.207]],\n",
       "\n",
       "        [[252.591, 246.068],\n",
       "         [225.266, 209.619],\n",
       "         [339.606, 259.536],\n",
       "         [349.615, 220.834]]])"
      ]
     },
     "execution_count": 23,
     "metadata": {},
     "output_type": "execute_result"
    }
   ],
   "source": [
    "keypoints = \"\"\"End of Neck\n",
    "Shoulder\n",
    "FL_Knee\n",
    "FL_Ankle\n",
    "FL_White_TapeTop\n",
    "FL_White_TapeBot\n",
    "FR_Knee\n",
    "FR_Ankle\n",
    "FL_Red_TapeTop\n",
    "FL_Red_TapeBot\n",
    "End of Tail\n",
    "Hip\n",
    "BL_Knee\n",
    "BL_Ankle\n",
    "BL_Red_TapeTop\n",
    "BL_Red_TapeBot\n",
    "BR_Knee\n",
    "BR_Ankle\n",
    "BR_Red_TapeTop\n",
    "BR_Red_TapeBot\"\"\".split(\"\\n\")\n",
    "training_keypoints = ['FL_Ankle','FL_Knee','BL_Ankle','BL_Knee']\n",
    "indices_keypoints_training = [keypoints.index(val) for val in training_keypoints]\n",
    "\n",
    "base_dir = pathlib.Path.cwd()\n",
    "img_path = base_dir / \"HorseInferenceFiles/img0088.png\"\n",
    "dlc_model_path = base_dir/\"HorseInferenceFiles/DLC_HorseProject1_efficientnet-b0_iteration-0_shuffle-1\"\n",
    "image = cv2.imread(str(img_path))\n",
    "dlc_proc = Processor()\n",
    "dlc_live = DLCLive(model_path=str(dlc_model_path), processor=dlc_proc)\n",
    "\n",
    "out = list()\n",
    "for ind, image in enumerate([cv2.imread(str(base_dir / (\"HorseInferenceFiles/\"+filePath))) for filePath in [\"img0088.png\",\"img0228.png\",\"img0288.png\",\"img0484.png\"]]):\n",
    "    pose = None\n",
    "    if ind == 0:\n",
    "        pose = (dlc_live.init_inference(image)[indices_keypoints_training][:,0:2])\n",
    "    else:\n",
    "        pose = (dlc_live.get_pose(image)[indices_keypoints_training][:,0:2])\n",
    "    pose = torch.from_numpy(pose)\n",
    "    out.append(pose)\n",
    "\n",
    "# dlc_live.init_inference(image)\n",
    "# img_keypoints = dlc_live.get_pose(image)\n",
    "\n",
    "# training_data = img_keypoints[indices_keypoints_training]\n",
    "# training_data = training_data[:,0:2]\n",
    "# training_data\n",
    "\n",
    "training_data = out = torch.stack(out)\n",
    "out"
   ]
  },
  {
   "cell_type": "code",
   "execution_count": 24,
   "metadata": {},
   "outputs": [
    {
     "data": {
      "text/plain": [
       "(tensor([[ 0.130,  0.272],\n",
       "         [ 0.174,  0.141],\n",
       "         [-0.313,  0.034],\n",
       "         [-0.145,  0.024]], grad_fn=<SliceBackward0>),\n",
       " torch.Size([4, 2]))"
      ]
     },
     "execution_count": 24,
     "metadata": {},
     "output_type": "execute_result"
    }
   ],
   "source": [
    "intrinsic = torch.eye(4,requires_grad=True)\n",
    "extrinsic = torch.ones((4,4), requires_grad=True)\n",
    "intrinsic, extrinsic = intrinsic.unsqueeze(0), extrinsic.unsqueeze(0)\n",
    "\n",
    "imageHeight,imageWidth = torch.tensor(image.shape[0]),torch.tensor(image.shape[1])\n",
    "imageHeight = imageHeight.unsqueeze(0)\n",
    "imageWidth = imageWidth.unsqueeze(0)\n",
    "\n",
    "cameraModel = torchgeometry.PinholeCamera(intrinsic, extrinsic, imageHeight, torch.tensor([1,]))\n",
    "pixel_coords = torch.rand((1,training_data.shape[0], 1, 3), requires_grad=True)\n",
    "\n",
    "#Projection is in 3D space where the relevant points on the robot thinks it is\n",
    "projection = torch.cat((learnable_robot_model.compute_forward_kinematics(joint_angles, \"FL_foot\")[0],\\\n",
    "learnable_robot_model.compute_forward_kinematics(joint_angles, \"FL_calf\")[0],\\\n",
    "learnable_robot_model.compute_forward_kinematics(joint_angles, \"RL_foot\")[0],\\\n",
    "learnable_robot_model.compute_forward_kinematics(joint_angles, \"RL_calf\")[0]))\n",
    "projection = projection.unsqueeze(0).unsqueeze(0)\n",
    "\n",
    "depth = torch.ones((1,1,1,4))\n",
    "\n",
    "cameraEstimate = torchgeometry.pixel2cam(depth, cameraModel.intrinsics_inverse(), projection)\n",
    "cameraEstimate = cameraEstimate.squeeze(0).squeeze(0)[:,0:2]\n",
    "cameraEstimate, cameraEstimate.shape"
   ]
  },
  {
   "cell_type": "code",
   "execution_count": 31,
   "metadata": {},
   "outputs": [
    {
     "data": {
      "text/plain": [
       "tensor(4349.010, grad_fn=<SumBackward0>)"
      ]
     },
     "execution_count": 31,
     "metadata": {},
     "output_type": "execute_result"
    }
   ],
   "source": [
    "cameraLoss = torch.sum(torch.sqrt(torch.sum(torch.pow(training_data-cameraEstimate, 2), dim = 1)))\n",
    "cameraLoss"
   ]
  },
  {
   "cell_type": "code",
   "execution_count": 35,
   "metadata": {},
   "outputs": [
    {
     "ename": "AttributeError",
     "evalue": "'NoneType' object has no attribute 'append'",
     "output_type": "error",
     "traceback": [
      "\u001b[0;31m---------------------------------------------------------------------------\u001b[0m",
      "\u001b[0;31mAttributeError\u001b[0m                            Traceback (most recent call last)",
      "Cell \u001b[0;32mIn[35], line 25\u001b[0m\n\u001b[1;32m     20\u001b[0m \u001b[39mfor\u001b[39;00m joint_angles \u001b[39min\u001b[39;00m joint_angles_array:\n\u001b[1;32m     21\u001b[0m     projection \u001b[39m=\u001b[39m torch\u001b[39m.\u001b[39mcat((learnable_robot_model\u001b[39m.\u001b[39mcompute_forward_kinematics(joint_angles, \u001b[39m\"\u001b[39m\u001b[39mFL_foot\u001b[39m\u001b[39m\"\u001b[39m)[\u001b[39m0\u001b[39m],\\\n\u001b[1;32m     22\u001b[0m     learnable_robot_model\u001b[39m.\u001b[39mcompute_forward_kinematics(joint_angles, \u001b[39m\"\u001b[39m\u001b[39mFL_calf\u001b[39m\u001b[39m\"\u001b[39m)[\u001b[39m0\u001b[39m],\\\n\u001b[1;32m     23\u001b[0m     learnable_robot_model\u001b[39m.\u001b[39mcompute_forward_kinematics(joint_angles, \u001b[39m\"\u001b[39m\u001b[39mRR_foot\u001b[39m\u001b[39m\"\u001b[39m)[\u001b[39m0\u001b[39m],\\\n\u001b[1;32m     24\u001b[0m     learnable_robot_model\u001b[39m.\u001b[39mcompute_forward_kinematics(joint_angles, \u001b[39m\"\u001b[39m\u001b[39mRR_calf\u001b[39m\u001b[39m\"\u001b[39m)[\u001b[39m0\u001b[39m]))\n\u001b[0;32m---> 25\u001b[0m     projections \u001b[39m=\u001b[39m projections\u001b[39m.\u001b[39;49mappend(projection)\n\u001b[1;32m     26\u001b[0m projection \u001b[39m=\u001b[39m torch\u001b[39m.\u001b[39mcat(projections)\n\u001b[1;32m     27\u001b[0m \u001b[39mprint\u001b[39m(projection)\n",
      "\u001b[0;31mAttributeError\u001b[0m: 'NoneType' object has no attribute 'append'"
     ]
    }
   ],
   "source": [
    "joint_angles_array = torch.rand((out.size(0), 1, 12), requires_grad=True)\n",
    "\n",
    "intrinsic = (100*torch.eye(4).unsqueeze(0)).requires_grad_(True)\n",
    "extrinsic = (torch.ones((1,4,4))*100).requires_grad_(True)\n",
    "depth = torch.ones((1,1,1,4), requires_grad=False) #Without depth, loss doesnt descrease. with depth loss rapidly decreases.\n",
    "intrinsic.retain_grad()\n",
    "optimizer = torch.optim.Adam([joint_angles_array, intrinsic, extrinsic] + list(learnable_robot_model.parameters()), lr=1e-2)\n",
    "for epoch in range(2000):\n",
    "    optimizer.zero_grad()\n",
    "\n",
    "    #Old Single Image Projection Logic\n",
    "    projection = torch.cat((learnable_robot_model.compute_forward_kinematics(joint_angles, \"FL_foot\")[0],\\\n",
    "    learnable_robot_model.compute_forward_kinematics(joint_angles, \"FL_calf\")[0],\\\n",
    "    learnable_robot_model.compute_forward_kinematics(joint_angles, \"RR_foot\")[0],\\\n",
    "    learnable_robot_model.compute_forward_kinematics(joint_angles, \"RR_calf\")[0]))\n",
    "\n",
    "    \n",
    "    projections = []\n",
    "    #Where the Robot Thinks It Is\n",
    "    for joint_angles in joint_angles_array:\n",
    "        projection = torch.cat((learnable_robot_model.compute_forward_kinematics(joint_angles, \"FL_foot\")[0],\\\n",
    "        learnable_robot_model.compute_forward_kinematics(joint_angles, \"FL_calf\")[0],\\\n",
    "        learnable_robot_model.compute_forward_kinematics(joint_angles, \"RR_foot\")[0],\\\n",
    "        learnable_robot_model.compute_forward_kinematics(joint_angles, \"RR_calf\")[0]))\n",
    "        projections.append(projection)\n",
    "    projection = torch.cat(projections)\n",
    "    print(projection)\n",
    "\n",
    "    #Where Robot Is In Pixel Space\n",
    "    cameraModel = torchgeometry.PinholeCamera(intrinsic, extrinsic, imageHeight, torch.tensor([1,]))\n",
    "    cameraEstimate = torchgeometry.pixel2cam(depth, cameraModel.intrinsics_inverse(), projection)\n",
    "    cameraEstimate = cameraEstimate.squeeze(0).squeeze(0)[:,0:2]\n",
    "\n",
    "    #Loss Between Where Robot/Horse Should Be and Where It Is\n",
    "    loss = torch.sum(torch.sqrt(torch.sum(torch.pow(torch.from_numpy(training_data)-cameraEstimate, 2))))\n",
    "    if epoch % 100 == 0:\n",
    "        print(f\"Epoch {epoch}: Loss ({loss})\")\n",
    "    loss.backward()\n",
    "    optimizer.step()\n"
   ]
  },
  {
   "cell_type": "code",
   "execution_count": null,
   "metadata": {},
   "outputs": [],
   "source": []
  },
  {
   "cell_type": "code",
   "execution_count": null,
   "metadata": {},
   "outputs": [],
   "source": []
  }
 ],
 "metadata": {
  "kernelspec": {
   "display_name": "DEEPLABCUT",
   "language": "python",
   "name": "python3"
  },
  "language_info": {
   "codemirror_mode": {
    "name": "ipython",
    "version": 3
   },
   "file_extension": ".py",
   "mimetype": "text/x-python",
   "name": "python",
   "nbconvert_exporter": "python",
   "pygments_lexer": "ipython3",
   "version": "3.8.16"
  },
  "orig_nbformat": 4
 },
 "nbformat": 4,
 "nbformat_minor": 2
}
