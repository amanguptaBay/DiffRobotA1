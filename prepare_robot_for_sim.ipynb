{
 "cells": [
  {
   "cell_type": "markdown",
   "metadata": {},
   "source": []
  },
  {
   "cell_type": "code",
   "execution_count": 1,
   "metadata": {},
   "outputs": [],
   "source": [
    "import xml.etree.ElementTree\n",
    "import math\n",
    "import numpy as np\n",
    "from scipy.spatial.transform import Rotation as R"
   ]
  },
  {
   "cell_type": "code",
   "execution_count": 5,
   "metadata": {},
   "outputs": [],
   "source": [
    "def rotation_matrix(axis, theta):\n",
    "    \"\"\"\n",
    "    Return the rotation matrix associated with counterclockwise rotation about\n",
    "    the given axis by theta radians.\n",
    "    \"\"\"\n",
    "    axis = np.asarray(axis)\n",
    "    axis = axis / math.sqrt(np.dot(axis, axis))\n",
    "    a = math.cos(theta / 2.0)\n",
    "    b, c, d = -axis * math.sin(theta / 2.0)\n",
    "    aa, bb, cc, dd = a * a, b * b, c * c, d * d\n",
    "    bc, ad, ac, ab, bd, cd = b * c, a * d, a * c, a * b, b * d, c * d\n",
    "    return np.array([[aa + bb - cc - dd, 2 * (bc + ad), 2 * (bd - ac)],\n",
    "                     [2 * (bc - ad), aa + cc - bb - dd, 2 * (cd + ab)],\n",
    "                     [2 * (bd + ac), 2 * (cd - ab), aa + dd - bb - cc]])"
   ]
  },
  {
   "cell_type": "code",
   "execution_count": 10,
   "metadata": {},
   "outputs": [
    {
     "name": "stdout",
     "output_type": "stream",
     "text": [
      "Link base is not a child of any joint\n",
      "Link trunk same position as its parent\n"
     ]
    }
   ],
   "source": [
    "\n",
    "tree = xml.etree.ElementTree.parse(\"generated/generatedURDF.urdf\")\n",
    "\n",
    "#Normalize all joint positions\n",
    "for joint in tree.getroot().findall(\"./joint\"):\n",
    "    origin = joint.find('./origin')\n",
    "    old_xyz = [float(i) for i in origin.attrib['xyz'].split(' ')]\n",
    "    new_xyz = [0.75*i for i in old_xyz]\n",
    "    origin.attrib['xyz'] = ' '.join([str(i) for i in new_xyz])\n",
    "#print(xml.etree.ElementTree.tostring(tree.getroot()).decode())\n",
    ";\n",
    "\n",
    "#Remove all visual geometries\n",
    "for link in tree.getroot().findall(\"./link\"):\n",
    "    if link.find('./visual') is None:\n",
    "        link.append(xml.etree.ElementTree.fromstring(\"<visual></visual>\"))\n",
    "    visual = link.find('./visual')\n",
    "    if visual.find('./origin') is None:\n",
    "        visual.append(xml.etree.ElementTree.fromstring('<origin xyz=\"0 0 0\"></origin>'))\n",
    "    if visual.find('./geometry') is None:\n",
    "        visual.append(xml.etree.ElementTree.fromstring('<geometry></geometry>'))\n",
    "    geometry = visual.find('./geometry')\n",
    "    geom_kids = geometry.findall(\"./\")\n",
    "    for kid in geom_kids:\n",
    "        geometry.remove(kid)\n",
    "\n",
    "#Add cylinders that go from the parent to the child\n",
    "for link in tree.getroot().findall(\"./link\"):\n",
    "    #Find joint for which the link is the child, and the link for which the link is the parent\n",
    "    link_name = link.get('name')\n",
    "    \n",
    "    parent = tree.getroot().find(f\"./joint/parent[@link='{link_name}']/..\")\n",
    "    child = tree.getroot().find(f\"./joint/child[@link='{link_name}']/..\")\n",
    "    if child is None:\n",
    "        print(f\"Link {link_name} is not a child of any joint\")\n",
    "        link.find('./visual/geometry').append(xml.etree.ElementTree.fromstring(f'<sphere radius=\"0.025\"></sphere>'))\n",
    "        continue\n",
    "    \n",
    "    #Remove rpy from origin\n",
    "    link_origin =  link.find('./visual/origin')\n",
    "    if link_origin is not None and \"rpy\" in link_origin.attrib:\n",
    "            link_origin.attrib.pop(\"rpy\")\n",
    "    \n",
    "    #Child position from parent\n",
    "    child_position = child.find('./origin').get('xyz').split()\n",
    "    child_position = [float(i) for i in child_position  ]\n",
    "    child_position = np.array(child_position)\n",
    "\n",
    "    if np.linalg.norm(child_position) == 0:\n",
    "        print(f\"Link {link_name} same position as its parent\")\n",
    "        link.find('./visual/geometry').append(xml.etree.ElementTree.fromstring(f'<sphere radius=\"0.025\"></sphere>'))\n",
    "        continue\n",
    "\n",
    "    plane_normal = np.cross(np.array([0,0,1]),child_position)\n",
    "    dot = np.dot(child_position, np.array([0,0,1]))\n",
    "    phi = np.arccos(dot/np.linalg.norm(child_position))\n",
    "\n",
    "    # translation_of_z = np.dot(rotation_matrix(plane_normal, phi), np.array([0,0,1]))\n",
    "    rotation_vector = phi*(plane_normal/np.linalg.norm(plane_normal)) if np.linalg.norm(plane_normal) != 0 else np.array([0,0,0])\n",
    "    rotation_eulers = R.from_rotvec(rotation_vector).as_euler(\"xyz\")\n",
    "\n",
    "    roll = rotation_eulers[0]\n",
    "    pitch = rotation_eulers[1]\n",
    "    yaw = rotation_eulers[2]\n",
    "    \n",
    "    length = sum([(x)**2 for x in child_position])**0.5\n",
    "    \n",
    "    #Add Cylinder\n",
    "    link.find('./visual/geometry').append(xml.etree.ElementTree.fromstring(f'<cylinder length=\"{length}\" radius=\"0.01\"></cylinder>'))\n",
    "    \n",
    "    #Add rpy for visualization\n",
    "    # pitch = math.atan2(child_position[0], child_position[2])\n",
    "    # yaw = math.asin(child_position[1]/length if length != 0 else 0)\n",
    "    #When pitch is set to math.pi/2 cylinders are horizontal, when 0 vertical\n",
    "    #When yaw is 0: compared to when yaw is math.pi/2\n",
    "    rpy = f\"{roll} {pitch} {yaw}\"\n",
    "    \n",
    "    link.find('./visual/origin').attrib['rpy'] = rpy\n",
    "\n",
    "    new_xyz = [(-i/2) for i in child_position]\n",
    "    link.find('./visual/origin').attrib['xyz'] = ' '.join([str(i) for i in new_xyz])\n",
    "\n",
    "# #Add Inertial Information\n",
    "# for link in tree.getroot().findall(\"./link\"):\n",
    "#     #Get visual/origin element\n",
    "#     if link.get(\"name\") == \"base\":\n",
    "\n",
    "#     visual_origin = link.find('./visual/origin')\n"
   ]
  },
  {
   "cell_type": "code",
   "execution_count": 11,
   "metadata": {},
   "outputs": [
    {
     "data": {
      "text/plain": [
       "'0.0 0.0 0.0'"
      ]
     },
     "execution_count": 11,
     "metadata": {},
     "output_type": "execute_result"
    }
   ],
   "source": [
    "rpy"
   ]
  },
  {
   "cell_type": "code",
   "execution_count": 12,
   "metadata": {},
   "outputs": [],
   "source": [
    "tree.write(\"generated/sim_ready_robot.urdf\", encoding=\"utf-8\", xml_declaration=True)"
   ]
  },
  {
   "cell_type": "code",
   "execution_count": null,
   "metadata": {},
   "outputs": [],
   "source": []
  }
 ],
 "metadata": {
  "kernelspec": {
   "display_name": "DEEPLABCUT",
   "language": "python",
   "name": "python3"
  },
  "language_info": {
   "codemirror_mode": {
    "name": "ipython",
    "version": 3
   },
   "file_extension": ".py",
   "mimetype": "text/x-python",
   "name": "python",
   "nbconvert_exporter": "python",
   "pygments_lexer": "ipython3",
   "version": "3.9.18"
  }
 },
 "nbformat": 4,
 "nbformat_minor": 2
}
